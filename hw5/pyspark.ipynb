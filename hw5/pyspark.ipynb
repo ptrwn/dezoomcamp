{
 "cells": [
  {
   "cell_type": "code",
   "execution_count": 1,
   "id": "370ce2b9-2931-492c-ae7b-e764014f28e6",
   "metadata": {},
   "outputs": [
    {
     "name": "stdout",
     "output_type": "stream",
     "text": [
      "/home/ale/.local/bin/pip\n"
     ]
    }
   ],
   "source": [
    "!which pip"
   ]
  },
  {
   "cell_type": "code",
   "execution_count": 2,
   "id": "27941bec-e59b-4fff-8669-e43d49850a90",
   "metadata": {},
   "outputs": [
    {
     "name": "stdout",
     "output_type": "stream",
     "text": [
      "/home/ale/prg/py/dezoomcamp/venv/bin/python\n"
     ]
    }
   ],
   "source": [
    "!which python"
   ]
  },
  {
   "cell_type": "code",
   "execution_count": 3,
   "id": "be46cdee-2aac-4228-9c5a-91741cac2cfa",
   "metadata": {},
   "outputs": [
    {
     "data": {
      "text/plain": [
       "'1.5.3'"
      ]
     },
     "execution_count": 3,
     "metadata": {},
     "output_type": "execute_result"
    }
   ],
   "source": [
    "# %pip install -U pandas==1.5.3\n",
    "import pandas as pd\n",
    "pd.__version__"
   ]
  },
  {
   "cell_type": "code",
   "execution_count": 4,
   "id": "3e2ea12b-f176-4a1c-aeba-5acf102ed16f",
   "metadata": {},
   "outputs": [],
   "source": [
    "import pyspark\n"
   ]
  },
  {
   "cell_type": "code",
   "execution_count": 5,
   "id": "3fbc431f-5e22-40f5-9691-79f5a32903e2",
   "metadata": {},
   "outputs": [
    {
     "data": {
      "text/plain": [
       "'3.3.2'"
      ]
     },
     "execution_count": 5,
     "metadata": {},
     "output_type": "execute_result"
    }
   ],
   "source": [
    "pyspark.__version__"
   ]
  },
  {
   "cell_type": "code",
   "execution_count": 6,
   "id": "cd16ac4a-9ef5-4f0f-8e69-0a3b54221eb5",
   "metadata": {},
   "outputs": [
    {
     "data": {
      "text/plain": [
       "'/home/ale/prg/py/dezoomcamp/hw5/spark/spark-3.3.2-bin-hadoop3/python/pyspark/__init__.py'"
      ]
     },
     "execution_count": 6,
     "metadata": {},
     "output_type": "execute_result"
    }
   ],
   "source": [
    "pyspark.__file__"
   ]
  },
  {
   "cell_type": "code",
   "execution_count": 7,
   "id": "886918b0-c0a0-4fa7-b155-3a92d58cc42d",
   "metadata": {},
   "outputs": [],
   "source": [
    "from pyspark.sql import SparkSession"
   ]
  },
  {
   "cell_type": "code",
   "execution_count": 8,
   "id": "f2cf8a1f-bdc0-48d0-9441-f77cf519fe4c",
   "metadata": {},
   "outputs": [
    {
     "name": "stdout",
     "output_type": "stream",
     "text": [
      "24/03/04 18:11:19 WARN Utils: Your hostname, MSI resolves to a loopback address: 127.0.1.1; using 172.17.101.240 instead (on interface eth0)\n",
      "24/03/04 18:11:19 WARN Utils: Set SPARK_LOCAL_IP if you need to bind to another address\n"
     ]
    },
    {
     "name": "stderr",
     "output_type": "stream",
     "text": [
      "Setting default log level to \"WARN\".\n",
      "To adjust logging level use sc.setLogLevel(newLevel). For SparkR, use setLogLevel(newLevel).\n"
     ]
    },
    {
     "name": "stdout",
     "output_type": "stream",
     "text": [
      "24/03/04 18:11:20 WARN NativeCodeLoader: Unable to load native-hadoop library for your platform... using builtin-java classes where applicable\n"
     ]
    }
   ],
   "source": [
    "spark = SparkSession.builder \\\n",
    "    .master(\"local[*]\") \\\n",
    "    .appName('test') \\\n",
    "    .getOrCreate()"
   ]
  },
  {
   "cell_type": "code",
   "execution_count": 51,
   "id": "eafa5812-4d37-46fe-bfd1-24fb109d8efe",
   "metadata": {},
   "outputs": [],
   "source": [
    "df_zone = spark.read \\\n",
    "    .option(\"header\", \"true\") \\\n",
    "    .csv('taxi+_zone_lookup.csv')"
   ]
  },
  {
   "cell_type": "code",
   "execution_count": 52,
   "id": "c4618c6a-a67e-43f3-aa93-b94e43d1f5a9",
   "metadata": {},
   "outputs": [
    {
     "name": "stdout",
     "output_type": "stream",
     "text": [
      "+----------+-------------+--------------------+------------+\n",
      "|LocationID|      Borough|                Zone|service_zone|\n",
      "+----------+-------------+--------------------+------------+\n",
      "|         1|          EWR|      Newark Airport|         EWR|\n",
      "|         2|       Queens|         Jamaica Bay|   Boro Zone|\n",
      "|         3|        Bronx|Allerton/Pelham G...|   Boro Zone|\n",
      "|         4|    Manhattan|       Alphabet City| Yellow Zone|\n",
      "|         5|Staten Island|       Arden Heights|   Boro Zone|\n",
      "|         6|Staten Island|Arrochar/Fort Wad...|   Boro Zone|\n",
      "|         7|       Queens|             Astoria|   Boro Zone|\n",
      "|         8|       Queens|        Astoria Park|   Boro Zone|\n",
      "|         9|       Queens|          Auburndale|   Boro Zone|\n",
      "|        10|       Queens|        Baisley Park|   Boro Zone|\n",
      "|        11|     Brooklyn|          Bath Beach|   Boro Zone|\n",
      "|        12|    Manhattan|        Battery Park| Yellow Zone|\n",
      "|        13|    Manhattan|   Battery Park City| Yellow Zone|\n",
      "|        14|     Brooklyn|           Bay Ridge|   Boro Zone|\n",
      "|        15|       Queens|Bay Terrace/Fort ...|   Boro Zone|\n",
      "|        16|       Queens|             Bayside|   Boro Zone|\n",
      "|        17|     Brooklyn|             Bedford|   Boro Zone|\n",
      "|        18|        Bronx|        Bedford Park|   Boro Zone|\n",
      "|        19|       Queens|           Bellerose|   Boro Zone|\n",
      "|        20|        Bronx|             Belmont|   Boro Zone|\n",
      "+----------+-------------+--------------------+------------+\n",
      "only showing top 20 rows\n",
      "\n"
     ]
    }
   ],
   "source": [
    "df_zone.show()"
   ]
  },
  {
   "cell_type": "code",
   "execution_count": 9,
   "id": "a4cd732c-85e7-47b4-9a3d-1339b5ca7b9c",
   "metadata": {},
   "outputs": [
    {
     "name": "stderr",
     "output_type": "stream",
     "text": [
      "                                                                                \r"
     ]
    }
   ],
   "source": [
    "df.write.parquet('zones')"
   ]
  },
  {
   "cell_type": "code",
   "execution_count": 12,
   "id": "99bbc662-1a79-4562-9ee6-c91cb5f37e63",
   "metadata": {},
   "outputs": [
    {
     "name": "stdout",
     "output_type": "stream",
     "text": [
      "total 19M\n",
      "drwxr-xr-x  6 ale ale 4.0K Mar  4 17:37 .\n",
      "drwxr-xr-x 10 ale ale 4.0K Mar  4 15:36 ..\n",
      "drwxr-xr-x  2 ale ale 4.0K Mar  4 17:28 .ipynb_checkpoints\n",
      "-rw-r--r--  1 ale ale  389 Mar  4 16:37 exports\n",
      "-rw-r--r--  1 ale ale  19M Mar  4 17:32 fhv_tripdata_2019-10.csv.gz\n",
      "drwxr-xr-x  2 ale ale 4.0K Mar  4 17:01 notebooks\n",
      "-rw-r--r--  1 ale ale 6.7K Mar  4 17:37 pyspark.ipynb\n",
      "drwxr-xr-x  4 ale ale 4.0K Mar  4 16:07 spark\n",
      "-rw-r--r--  1 ale ale  13K Aug 17  2016 taxi+_zone_lookup.csv\n",
      "drwxr-xr-x  2 ale ale 4.0K Mar  4 17:04 zones\n"
     ]
    }
   ],
   "source": [
    "! ls -lah"
   ]
  },
  {
   "cell_type": "code",
   "execution_count": 13,
   "id": "d8b64a04-e070-4ad5-be26-e2b6d8578c60",
   "metadata": {},
   "outputs": [
    {
     "name": "stdout",
     "output_type": "stream",
     "text": [
      "62958 fhv_tripdata_2019-10.csv.gz\n"
     ]
    }
   ],
   "source": [
    "! wc -l fhv_tripdata_2019-10.csv.gz"
   ]
  },
  {
   "cell_type": "code",
   "execution_count": 14,
   "id": "8bb91c82-9cc3-414f-a52f-1371027e8288",
   "metadata": {},
   "outputs": [],
   "source": [
    "df = spark.read.option(\"header\", \"true\").csv('fhv_tripdata_2019-10.csv.gz')"
   ]
  },
  {
   "cell_type": "code",
   "execution_count": 18,
   "id": "ad544054-aae7-4ef2-97cb-605e249c9f4d",
   "metadata": {},
   "outputs": [
    {
     "data": {
      "text/plain": [
       "StructType([StructField('dispatching_base_num', StringType(), True), StructField('pickup_datetime', StringType(), True), StructField('dropOff_datetime', StringType(), True), StructField('PUlocationID', StringType(), True), StructField('DOlocationID', StringType(), True), StructField('SR_Flag', StringType(), True), StructField('Affiliated_base_number', StringType(), True)])"
      ]
     },
     "execution_count": 18,
     "metadata": {},
     "output_type": "execute_result"
    }
   ],
   "source": [
    "df.schema"
   ]
  },
  {
   "cell_type": "code",
   "execution_count": 32,
   "id": "5db8e5c2-5733-4483-9cd2-5df01d2ea8bb",
   "metadata": {},
   "outputs": [],
   "source": [
    "!head -n 101 fhv_tripdata_2019-10.csv > head.csv"
   ]
  },
  {
   "cell_type": "code",
   "execution_count": 33,
   "id": "705c4643-550c-4aaa-a13e-1ed65d4bfe5a",
   "metadata": {},
   "outputs": [
    {
     "name": "stdout",
     "output_type": "stream",
     "text": [
      "101 head.csv\n"
     ]
    }
   ],
   "source": [
    "!wc -l head.csv"
   ]
  },
  {
   "cell_type": "code",
   "execution_count": 27,
   "id": "ab911424-5d6f-4aee-842c-5271b6939211",
   "metadata": {},
   "outputs": [
    {
     "name": "stdout",
     "output_type": "stream",
     "text": [
      "dispatching_base_num,pickup_datetime,dropOff_datetime,PUlocationID,DOlocationID,SR_Flag,Affiliated_base_number\n",
      "B00009,2019-10-01 00:23:00,2019-10-01 00:35:00,264,264,,B00009\n",
      "B00013,2019-10-01 00:11:29,2019-10-01 00:13:22,264,264,,B00013\n"
     ]
    }
   ],
   "source": [
    "!head -n 3 head.csv"
   ]
  },
  {
   "cell_type": "code",
   "execution_count": 9,
   "id": "1c9da2d7-60b4-49ad-bbb6-3fb7f8be7ccc",
   "metadata": {},
   "outputs": [],
   "source": [
    "df_pandas = pd.read_csv('head.csv')"
   ]
  },
  {
   "cell_type": "code",
   "execution_count": 10,
   "id": "dfca2c20-81ce-4879-86ec-a7ca7e3a625d",
   "metadata": {},
   "outputs": [
    {
     "data": {
      "text/plain": [
       "dispatching_base_num       object\n",
       "pickup_datetime            object\n",
       "dropOff_datetime           object\n",
       "PUlocationID                int64\n",
       "DOlocationID                int64\n",
       "SR_Flag                   float64\n",
       "Affiliated_base_number     object\n",
       "dtype: object"
      ]
     },
     "execution_count": 10,
     "metadata": {},
     "output_type": "execute_result"
    }
   ],
   "source": [
    "df_pandas.dtypes"
   ]
  },
  {
   "cell_type": "code",
   "execution_count": 16,
   "id": "3e3153a9-8fb9-4615-acdf-bf6a80ca9b7d",
   "metadata": {},
   "outputs": [],
   "source": [
    "from pyspark.sql import types\n",
    "schema = types.StructType([\n",
    "    types.StructField('dispatching_base_num', types.StringType(), True),\n",
    "    types.StructField('pickup_datetime', types.TimestampType(), True),\n",
    "    types.StructField('dropOff_datetime', types.TimestampType(), True),\n",
    "    types.StructField('PULocationID', types.IntegerType(), True),\n",
    "    types.StructField('DOLocationID', types.IntegerType(), True),\n",
    "    types.StructField('SR_Flag', types.StringType(), True),\n",
    "    types.StructField('Affiliated_base_number', types.StringType(), True),\n",
    "])"
   ]
  },
  {
   "cell_type": "code",
   "execution_count": 17,
   "id": "978eacfa-f441-4d68-b17f-9b310ddcef8a",
   "metadata": {},
   "outputs": [],
   "source": [
    "df = spark.read \\\n",
    "    .option(\"header\", \"true\") \\\n",
    "    .schema(schema) \\\n",
    "    .csv('fhv_tripdata_2019-10.csv')"
   ]
  },
  {
   "cell_type": "code",
   "execution_count": 18,
   "id": "9e7b20f0-c7ab-4075-829c-828909f44916",
   "metadata": {},
   "outputs": [
    {
     "data": {
      "text/plain": [
       "[Row(dispatching_base_num='B00009', pickup_datetime=datetime.datetime(2019, 10, 1, 0, 23), dropOff_datetime=datetime.datetime(2019, 10, 1, 0, 35), PULocationID=264, DOLocationID=264, SR_Flag=None, Affiliated_base_number='B00009'),\n",
       " Row(dispatching_base_num='B00013', pickup_datetime=datetime.datetime(2019, 10, 1, 0, 11, 29), dropOff_datetime=datetime.datetime(2019, 10, 1, 0, 13, 22), PULocationID=264, DOLocationID=264, SR_Flag=None, Affiliated_base_number='B00013'),\n",
       " Row(dispatching_base_num='B00014', pickup_datetime=datetime.datetime(2019, 10, 1, 0, 11, 43), dropOff_datetime=datetime.datetime(2019, 10, 1, 0, 37, 20), PULocationID=264, DOLocationID=264, SR_Flag=None, Affiliated_base_number='B00014')]"
      ]
     },
     "execution_count": 18,
     "metadata": {},
     "output_type": "execute_result"
    }
   ],
   "source": [
    "df.head(3)"
   ]
  },
  {
   "cell_type": "code",
   "execution_count": 20,
   "id": "5adf8afa-cc0d-4caa-a16e-c910dd8062e2",
   "metadata": {},
   "outputs": [],
   "source": [
    "df = df.repartition(6)"
   ]
  },
  {
   "cell_type": "code",
   "execution_count": 21,
   "id": "47c61208-8468-4bd0-ad96-1a89c34302d1",
   "metadata": {},
   "outputs": [
    {
     "name": "stderr",
     "output_type": "stream",
     "text": [
      "                                                                                \r"
     ]
    }
   ],
   "source": [
    "df.write.parquet('fhv/')"
   ]
  },
  {
   "cell_type": "code",
   "execution_count": 22,
   "id": "8a3ad9d0-ea6e-41ea-aacf-a603876e2d9d",
   "metadata": {},
   "outputs": [],
   "source": [
    "df = spark.read.parquet('fhv/')"
   ]
  },
  {
   "cell_type": "code",
   "execution_count": 25,
   "id": "3b7f7e57-590d-46c0-b015-b8bcc722f86a",
   "metadata": {},
   "outputs": [
    {
     "name": "stdout",
     "output_type": "stream",
     "text": [
      "root\n",
      " |-- dispatching_base_num: string (nullable = true)\n",
      " |-- pickup_datetime: timestamp (nullable = true)\n",
      " |-- dropOff_datetime: timestamp (nullable = true)\n",
      " |-- PULocationID: integer (nullable = true)\n",
      " |-- DOLocationID: integer (nullable = true)\n",
      " |-- SR_Flag: string (nullable = true)\n",
      " |-- Affiliated_base_number: string (nullable = true)\n",
      "\n"
     ]
    }
   ],
   "source": [
    "df.printSchema()"
   ]
  },
  {
   "cell_type": "code",
   "execution_count": 32,
   "id": "3301430b-bc2c-475a-976e-029840b54791",
   "metadata": {},
   "outputs": [],
   "source": [
    "import datetime"
   ]
  },
  {
   "cell_type": "code",
   "execution_count": 38,
   "id": "bc4aaabf-9ff5-4353-b9ac-39150ed7fcc6",
   "metadata": {},
   "outputs": [],
   "source": [
    "df1 = df.select('pickup_datetime', 'dropOff_datetime').filter((df['pickup_datetime'] >= datetime.datetime(2019, 10, 15, 0, 0, 0)) & (df['pickup_datetime'] <= datetime.datetime(2019, 10, 15, 23, 59, 59)))"
   ]
  },
  {
   "cell_type": "code",
   "execution_count": 42,
   "id": "39be2814-ffd9-4bcb-b56a-85420ddcdadc",
   "metadata": {},
   "outputs": [
    {
     "name": "stderr",
     "output_type": "stream",
     "text": [
      "                                                                                \r"
     ]
    },
    {
     "data": {
      "text/plain": [
       "62610"
      ]
     },
     "execution_count": 42,
     "metadata": {},
     "output_type": "execute_result"
    }
   ],
   "source": [
    "df1.count()"
   ]
  },
  {
   "cell_type": "code",
   "execution_count": 43,
   "id": "a17328d1-1efe-4096-8260-465009f18989",
   "metadata": {},
   "outputs": [
    {
     "data": {
      "text/plain": [
       "1897493"
      ]
     },
     "execution_count": 43,
     "metadata": {},
     "output_type": "execute_result"
    }
   ],
   "source": [
    "df.count()"
   ]
  },
  {
   "cell_type": "code",
   "execution_count": 45,
   "id": "e69e7a49-3bfd-46a9-a251-4a3f40143fcd",
   "metadata": {},
   "outputs": [],
   "source": [
    "from pyspark.sql import functions as F"
   ]
  },
  {
   "cell_type": "code",
   "execution_count": 46,
   "id": "0456faa9-3829-4c3e-b8a8-02a7db59dbb8",
   "metadata": {},
   "outputs": [],
   "source": [
    "df2 = df.withColumn('len', df['dropOff_datetime'] - df['pickup_datetime'])"
   ]
  },
  {
   "cell_type": "code",
   "execution_count": 50,
   "id": "6505ae5e-285f-46e5-90cd-eb0469716d7e",
   "metadata": {},
   "outputs": [
    {
     "name": "stderr",
     "output_type": "stream",
     "text": [
      "                                                                                \r"
     ]
    },
    {
     "data": {
      "text/plain": [
       "[Row(dispatching_base_num='B02921', pickup_datetime=datetime.datetime(2019, 10, 17, 14, 0), dropOff_datetime=datetime.datetime(2020, 10, 18, 0, 0), PULocationID=None, DOLocationID=None, SR_Flag=None, Affiliated_base_number='B03037', len=datetime.timedelta(days=366, seconds=36000)),\n",
       " Row(dispatching_base_num='B00746         ', pickup_datetime=datetime.datetime(2019, 10, 1, 21, 43, 42), dropOff_datetime=datetime.datetime(2027, 10, 1, 21, 45, 23), PULocationID=159, DOLocationID=264, SR_Flag=None, Affiliated_base_number='B00746         ', len=datetime.timedelta(days=2922, seconds=101)),\n",
       " Row(dispatching_base_num='B02416', pickup_datetime=datetime.datetime(2019, 10, 31, 23, 46, 33), dropOff_datetime=datetime.datetime(2029, 11, 1, 0, 13), PULocationID=None, DOLocationID=None, SR_Flag=None, Affiliated_base_number='B02416', len=datetime.timedelta(days=3653, seconds=1587)),\n",
       " Row(dispatching_base_num='B02832', pickup_datetime=datetime.datetime(2019, 10, 11, 18, 0), dropOff_datetime=datetime.datetime(2091, 10, 11, 18, 30), PULocationID=264, DOLocationID=264, SR_Flag=None, Affiliated_base_number='B02832', len=datetime.timedelta(days=26298, seconds=1800)),\n",
       " Row(dispatching_base_num='B02832', pickup_datetime=datetime.datetime(2019, 10, 28, 9, 0), dropOff_datetime=datetime.datetime(2091, 10, 28, 9, 30), PULocationID=264, DOLocationID=264, SR_Flag=None, Affiliated_base_number='B02832', len=datetime.timedelta(days=26298, seconds=1800))]"
      ]
     },
     "execution_count": 50,
     "metadata": {},
     "output_type": "execute_result"
    }
   ],
   "source": [
    "df2.sort('len').tail(5)"
   ]
  },
  {
   "cell_type": "code",
   "execution_count": 53,
   "id": "45962305-d127-46e6-a73e-e9d08e4df818",
   "metadata": {},
   "outputs": [],
   "source": [
    "df3 = df.join(df_zone, (df.PULocationID) == df_zone.LocationID )"
   ]
  },
  {
   "cell_type": "code",
   "execution_count": 55,
   "id": "eefd7514-b2d3-40e2-b6a1-dce76c297319",
   "metadata": {},
   "outputs": [
    {
     "data": {
      "text/plain": [
       "Row(dispatching_base_num='B01196', pickup_datetime=datetime.datetime(2019, 10, 3, 9, 59, 46), dropOff_datetime=datetime.datetime(2019, 10, 3, 10, 4, 48), PULocationID=264, DOLocationID=136, SR_Flag=None, Affiliated_base_number='B01196', LocationID='264', Borough='Unknown', Zone='NV', service_zone='N/A')"
      ]
     },
     "execution_count": 55,
     "metadata": {},
     "output_type": "execute_result"
    }
   ],
   "source": [
    "df3.head()"
   ]
  },
  {
   "cell_type": "code",
   "execution_count": 57,
   "id": "240ea0ea-ad0f-4e02-a650-e364c9d8ed37",
   "metadata": {},
   "outputs": [
    {
     "name": "stderr",
     "output_type": "stream",
     "text": [
      "[Stage 28:============================>                            (6 + 6) / 12]\r"
     ]
    },
    {
     "name": "stdout",
     "output_type": "stream",
     "text": [
      "+--------------------+-----+\n",
      "|                Zone|count|\n",
      "+--------------------+-----+\n",
      "|         Jamaica Bay|    1|\n",
      "|Governor's Island...|    2|\n",
      "| Green-Wood Cemetery|    5|\n",
      "|       Broad Channel|    8|\n",
      "|     Highbridge Park|   14|\n",
      "|        Battery Park|   15|\n",
      "|Saint Michaels Ce...|   23|\n",
      "|Breezy Point/Fort...|   25|\n",
      "|Marine Park/Floyd...|   26|\n",
      "|        Astoria Park|   29|\n",
      "|    Inwood Hill Park|   39|\n",
      "|       Willets Point|   47|\n",
      "|Forest Park/Highl...|   53|\n",
      "|  Brooklyn Navy Yard|   57|\n",
      "|        Crotona Park|   62|\n",
      "|        Country Club|   77|\n",
      "|     Freshkills Park|   89|\n",
      "|       Prospect Park|   98|\n",
      "|     Columbia Street|  105|\n",
      "|  South Williamsburg|  110|\n",
      "+--------------------+-----+\n",
      "only showing top 20 rows\n",
      "\n"
     ]
    },
    {
     "name": "stderr",
     "output_type": "stream",
     "text": [
      "                                                                                \r"
     ]
    }
   ],
   "source": [
    "df3.groupBy('Zone').count().orderBy('count').show()"
   ]
  },
  {
   "cell_type": "code",
   "execution_count": null,
   "id": "541d2397-161c-4fa9-9683-ec99e83ef7b9",
   "metadata": {},
   "outputs": [],
   "source": []
  }
 ],
 "metadata": {
  "kernelspec": {
   "display_name": "Python 3 (ipykernel)",
   "language": "python",
   "name": "python3"
  },
  "language_info": {
   "codemirror_mode": {
    "name": "ipython",
    "version": 3
   },
   "file_extension": ".py",
   "mimetype": "text/x-python",
   "name": "python",
   "nbconvert_exporter": "python",
   "pygments_lexer": "ipython3",
   "version": "3.11.5"
  }
 },
 "nbformat": 4,
 "nbformat_minor": 5
}
